{
 "cells": [
  {
   "cell_type": "code",
   "execution_count": 84,
   "id": "80e18348",
   "metadata": {},
   "outputs": [
    {
     "data": {
      "image/png": "[encoded data removed]",
      "text/plain": [
       "<Figure size 432x288 with 1 Axes>"
      ]
     },
     "metadata": {
      "needs_background": "light"
     },
     "output_type": "display_data"
    }
   ],
   "source": [
    "import numpy as np\n",
    "import random as r\n",
    "import matplotlib.pyplot as plt\n",
    "\n",
    "#####################\n",
    "##### FUNCTIONS #####\n",
    "#####################\n",
    "\n",
    "# In Supervised Machine Learning, to perform regression on a set of data we want to define a cost function. Our goal is to\n",
    "# find the minimum of this cost function in order to find the best fit line.\n",
    "# Our cost function is J(w) = (1/2m) * [SUM from i=1 to m] [yhat(w) - y]^2\n",
    "def cost_function(m, yhat, y):\n",
    "    # m is the number of input data points\n",
    "    # yhat is the best fit line estimate for a given value of slope, w\n",
    "    # y is the input data value for a given x\n",
    "    \n",
    "    # We assume that the vectors yhat and y have the correct number of entries\n",
    "    if yhat.size != m and y.size != m:\n",
    "        print('The data arrays passed in to the cost function are not the correct size.')\n",
    "        exit()\n",
    "    \n",
    "    # Calculate a vector of the squares of the errors\n",
    "    sqErr = np.square(yhat - y)\n",
    "    \n",
    "    # Sum all of the squared errors to get a scalar\n",
    "    sumErr = np.sum(sqErr)\n",
    "    \n",
    "    # Calculate the cost function\n",
    "    Jw = (1./(2.*m)) * sumErr\n",
    "    \n",
    "    return Jw\n",
    "\n",
    "#####################\n",
    "##### MAIN CODE #####\n",
    "#####################\n",
    "\n",
    "# Initialize basic variables\n",
    "m = 5   # Number of input data points\n",
    "x = np.array([])   # Vector of independent variable data points\n",
    "y = np.array([])   # Vector of dependent variable data points\n",
    "boxSize = 10.   # Size of the box made by the data in the xy-plane\n",
    "\n",
    "# In the absence of real data, generate a series of random numbers\n",
    "for i in range(0, m):\n",
    "    x = np.append(x, boxSize*r.random())\n",
    "    y = np.append(y, boxSize*r.random())\n",
    "    \n",
    "# Find the indices where the sorted x values will end up and use it to also sort the y values\n",
    "xySort = x.argsort()\n",
    "x = x[xySort]\n",
    "y = y[xySort]\n",
    "\n",
    "# Make a vector of the different slope (w) and y-intercept (b) values to try\n",
    "# Our linear fit equation is y = wx + b\n",
    "# We'll test an order of magnitude more parameter values than the number of input points\n",
    "w = np.linspace(-boxSize, boxSize, num=10*m)\n",
    "b = np.linspace(0., boxSize, num=10*m)\n",
    "\n",
    "# Make a matrix for our error values\n",
    "err = np.zeros((len(w), len(b)))\n",
    "\n",
    "# For each one of our x-values,\n",
    "for wInd in range(0, len(w)):\n",
    "    # and for every individual one of our potential slope values w,\n",
    "    for bInd in range(0, len(b)):\n",
    "        # calculate the error corresponding to every potential y-intercept b.\n",
    "        wx = np.multiply(w[wInd], x)\n",
    "        yhat = np.add(wx, b[bInd])\n",
    "        err[wInd][bInd] = cost_function(m,yhat,y)\n",
    "        \n",
    "# Minimize the error to find the best fit line\n",
    "errMin = np.min(err)\n",
    "wInd = np.where(err == errMin)[0][0]   # Matrix indices that correspond to the minimum error\n",
    "bInd = np.where(err == errMin)[1][0]\n",
    "wx = np.multiply(w[wInd],x)\n",
    "yMin = np.add(wx,b[bInd])\n",
    "\n",
    "# Plot both the input data and the regression line\n",
    "plt.axis([0., boxSize, 0., boxSize])\n",
    "plt.plot(x, y, marker='o')\n",
    "plt.plot(x, yMin, marker='*')\n",
    "plt.show()"
   ]
  },
  {
   "cell_type": "code",
   "execution_count": null,
   "id": "a5684807",
   "metadata": {},
   "outputs": [],
   "source": []
  }
 ],
 "metadata": {
  "kernelspec": {
   "display_name": "Python 3",
   "language": "python",
   "name": "python3"
  },
  "language_info": {
   "codemirror_mode": {
    "name": "ipython",
    "version": 3
   },
   "file_extension": ".py",
   "mimetype": "text/x-python",
   "name": "python",
   "nbconvert_exporter": "python",
   "pygments_lexer": "ipython3",
   "version": "3.8.8"
  }
 },
 "nbformat": 4,
 "nbformat_minor": 5
}
